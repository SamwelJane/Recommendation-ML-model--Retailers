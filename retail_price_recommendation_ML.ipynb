{
  "nbformat": 4,
  "nbformat_minor": 0,
  "metadata": {
    "colab": {
      "name": "retail price recommendation_ML.ipynb",
      "provenance": [],
      "collapsed_sections": [],
      "authorship_tag": "ABX9TyPGlutFr51mEASRBnR7SWDC",
      "include_colab_link": true
    },
    "kernelspec": {
      "name": "python3",
      "display_name": "Python 3"
    },
    "accelerator": "TPU"
  },
  "cells": [
    {
      "cell_type": "markdown",
      "metadata": {
        "id": "view-in-github",
        "colab_type": "text"
      },
      "source": [
        "<a href=\"https://colab.research.google.com/github/SamwelJane/Recommendation-ML-model--Retailers/blob/master/retail_price_recommendation_ML.ipynb\" target=\"_parent\"><img src=\"https://colab.research.google.com/assets/colab-badge.svg\" alt=\"Open In Colab\"/></a>"
      ]
    },
    {
      "cell_type": "code",
      "metadata": {
        "id": "dsf252K4IP3d",
        "colab_type": "code",
        "colab": {}
      },
      "source": [
        "# importing labraries\n",
        "import warnings\n",
        "import time\n",
        "import os \n",
        "import numpy as np\n",
        "import pandas as pd\n",
        "from sklearn.preprocessing import LabelEncoder, StandardScaler\n",
        "from sklearn.ensemble import RandomForestClassifier\n",
        "from sklearn.metrics import classification_report\n",
        "from sklearn.decomposition import PCA\n",
        "from sklearn.discriminant_analysis import LinearDiscriminantAnalysis\n",
        "from sklearn.manifold import TSNE\n",
        "import matplotlib.pyplot as plt\n",
        "import seaborn as sns\n",
        "import gc\n",
        "from scipy.sparse import csr_matrix, hstack\n",
        "from sklearn.feature_extraction.text import CountVectorizer, TfidfVectorizer\n",
        "from sklearn.model_selection import train_test_split, cross_val_score\n",
        "from sklearn.metrics import mean_squared_error\n",
        "import lightgbm as lgb\n",
        "import lightgbm as lgb\n",
        "\n",
        "from sklearn.preprocessing import LabelBinarizer\n",
        "# To ignore warnings any\n",
        "warnings.filterwarnings('ignore')\n"
      ],
      "execution_count": 0,
      "outputs": []
    },
    {
      "cell_type": "markdown",
      "metadata": {
        "id": "A43kIAWm58jh",
        "colab_type": "text"
      },
      "source": [
        "LOADING DATA FROM DRIVE"
      ]
    },
    {
      "cell_type": "code",
      "metadata": {
        "id": "oroTT-X7cftD",
        "colab_type": "code",
        "outputId": "7b241b14-7063-4f99-b2dd-817f1cd75f7b",
        "colab": {
          "base_uri": "https://localhost:8080/",
          "height": 122
        }
      },
      "source": [
        "from google.colab import drive\n",
        "drive.mount('/content/drive')"
      ],
      "execution_count": 2,
      "outputs": [
        {
          "output_type": "stream",
          "text": [
            "Go to this URL in a browser: https://accounts.google.com/o/oauth2/auth?client_id=947318989803-6bn6qk8qdgf4n4g3pfee6491hc0brc4i.apps.googleusercontent.com&redirect_uri=urn%3aietf%3awg%3aoauth%3a2.0%3aoob&response_type=code&scope=email%20https%3a%2f%2fwww.googleapis.com%2fauth%2fdocs.test%20https%3a%2f%2fwww.googleapis.com%2fauth%2fdrive%20https%3a%2f%2fwww.googleapis.com%2fauth%2fdrive.photos.readonly%20https%3a%2f%2fwww.googleapis.com%2fauth%2fpeopleapi.readonly\n",
            "\n",
            "Enter your authorization code:\n",
            "··········\n",
            "Mounted at /content/drive\n"
          ],
          "name": "stdout"
        }
      ]
    },
    {
      "cell_type": "markdown",
      "metadata": {
        "id": "uSAjMA4i42CJ",
        "colab_type": "text"
      },
      "source": [
        "# DATA DESCRIPTION\n",
        "\n",
        "* train_id — the id of the listing\n",
        "* name — the title of the listing\n",
        "* item_condition_id — the condition of the items provided by the sellers\n",
        "* category_name — category of the listing\n",
        "* brand_name — the name of the brand\n",
        "* price — the price that the item was sold for. This is target variable that we will predict\n",
        "* shipping — 1 if shipping fee is paid by seller and 0 by buyer\n",
        "* item_description — the full description of the item"
      ]
    },
    {
      "cell_type": "code",
      "metadata": {
        "id": "HBol0sWgQfMq",
        "colab_type": "code",
        "colab": {}
      },
      "source": [
        "# defining our dataframe as retail\n",
        "retail = pd.read_csv('/content/drive/My Drive/retail/train.tsv', sep = '\\t')\n"
      ],
      "execution_count": 0,
      "outputs": []
    },
    {
      "cell_type": "code",
      "metadata": {
        "id": "ZOpkaL5ih6GA",
        "colab_type": "code",
        "outputId": "9d8db386-586e-4f00-9b80-b94d755b4a9f",
        "colab": {
          "base_uri": "https://localhost:8080/",
          "height": 289
        }
      },
      "source": [
        "# previewing the first row\n",
        "retail.head()"
      ],
      "execution_count": 6,
      "outputs": [
        {
          "output_type": "execute_result",
          "data": {
            "text/html": [
              "<div>\n",
              "<style scoped>\n",
              "    .dataframe tbody tr th:only-of-type {\n",
              "        vertical-align: middle;\n",
              "    }\n",
              "\n",
              "    .dataframe tbody tr th {\n",
              "        vertical-align: top;\n",
              "    }\n",
              "\n",
              "    .dataframe thead th {\n",
              "        text-align: right;\n",
              "    }\n",
              "</style>\n",
              "<table border=\"1\" class=\"dataframe\">\n",
              "  <thead>\n",
              "    <tr style=\"text-align: right;\">\n",
              "      <th></th>\n",
              "      <th>train_id</th>\n",
              "      <th>name</th>\n",
              "      <th>item_condition_id</th>\n",
              "      <th>category_name</th>\n",
              "      <th>brand_name</th>\n",
              "      <th>price</th>\n",
              "      <th>shipping</th>\n",
              "      <th>item_description</th>\n",
              "    </tr>\n",
              "  </thead>\n",
              "  <tbody>\n",
              "    <tr>\n",
              "      <th>0</th>\n",
              "      <td>0</td>\n",
              "      <td>MLB Cincinnati Reds T Shirt Size XL</td>\n",
              "      <td>3</td>\n",
              "      <td>Men/Tops/T-shirts</td>\n",
              "      <td>NaN</td>\n",
              "      <td>10.0</td>\n",
              "      <td>1</td>\n",
              "      <td>No description yet</td>\n",
              "    </tr>\n",
              "    <tr>\n",
              "      <th>1</th>\n",
              "      <td>1</td>\n",
              "      <td>Razer BlackWidow Chroma Keyboard</td>\n",
              "      <td>3</td>\n",
              "      <td>Electronics/Computers &amp; Tablets/Components &amp; P...</td>\n",
              "      <td>Razer</td>\n",
              "      <td>52.0</td>\n",
              "      <td>0</td>\n",
              "      <td>This keyboard is in great condition and works ...</td>\n",
              "    </tr>\n",
              "    <tr>\n",
              "      <th>2</th>\n",
              "      <td>2</td>\n",
              "      <td>AVA-VIV Blouse</td>\n",
              "      <td>1</td>\n",
              "      <td>Women/Tops &amp; Blouses/Blouse</td>\n",
              "      <td>Target</td>\n",
              "      <td>10.0</td>\n",
              "      <td>1</td>\n",
              "      <td>Adorable top with a hint of lace and a key hol...</td>\n",
              "    </tr>\n",
              "    <tr>\n",
              "      <th>3</th>\n",
              "      <td>3</td>\n",
              "      <td>Leather Horse Statues</td>\n",
              "      <td>1</td>\n",
              "      <td>Home/Home Décor/Home Décor Accents</td>\n",
              "      <td>NaN</td>\n",
              "      <td>35.0</td>\n",
              "      <td>1</td>\n",
              "      <td>New with tags. Leather horses. Retail for [rm]...</td>\n",
              "    </tr>\n",
              "    <tr>\n",
              "      <th>4</th>\n",
              "      <td>4</td>\n",
              "      <td>24K GOLD plated rose</td>\n",
              "      <td>1</td>\n",
              "      <td>Women/Jewelry/Necklaces</td>\n",
              "      <td>NaN</td>\n",
              "      <td>44.0</td>\n",
              "      <td>0</td>\n",
              "      <td>Complete with certificate of authenticity</td>\n",
              "    </tr>\n",
              "  </tbody>\n",
              "</table>\n",
              "</div>"
            ],
            "text/plain": [
              "   train_id  ...                                   item_description\n",
              "0         0  ...                                 No description yet\n",
              "1         1  ...  This keyboard is in great condition and works ...\n",
              "2         2  ...  Adorable top with a hint of lace and a key hol...\n",
              "3         3  ...  New with tags. Leather horses. Retail for [rm]...\n",
              "4         4  ...          Complete with certificate of authenticity\n",
              "\n",
              "[5 rows x 8 columns]"
            ]
          },
          "metadata": {
            "tags": []
          },
          "execution_count": 6
        }
      ]
    },
    {
      "cell_type": "code",
      "metadata": {
        "id": "MVgin13Th-Wh",
        "colab_type": "code",
        "outputId": "6054872a-524c-426e-8b4a-97aa20bbf33d",
        "colab": {
          "base_uri": "https://localhost:8080/",
          "height": 238
        }
      },
      "source": [
        "\n",
        "# dataframe info\n",
        "retail.info()"
      ],
      "execution_count": 7,
      "outputs": [
        {
          "output_type": "stream",
          "text": [
            "<class 'pandas.core.frame.DataFrame'>\n",
            "RangeIndex: 1482535 entries, 0 to 1482534\n",
            "Data columns (total 8 columns):\n",
            "train_id             1482535 non-null int64\n",
            "name                 1482535 non-null object\n",
            "item_condition_id    1482535 non-null int64\n",
            "category_name        1476208 non-null object\n",
            "brand_name           849853 non-null object\n",
            "price                1482535 non-null float64\n",
            "shipping             1482535 non-null int64\n",
            "item_description     1482531 non-null object\n",
            "dtypes: float64(1), int64(3), object(4)\n",
            "memory usage: 90.5+ MB\n"
          ],
          "name": "stdout"
        }
      ]
    },
    {
      "cell_type": "code",
      "metadata": {
        "id": "cR0mLJm0kiHp",
        "colab_type": "code",
        "outputId": "2212ef04-1b30-4d12-b09e-7467c62117f3",
        "colab": {
          "base_uri": "https://localhost:8080/",
          "height": 170
        }
      },
      "source": [
        "# checking null values\n",
        " retail.isnull().sum()"
      ],
      "execution_count": 8,
      "outputs": [
        {
          "output_type": "execute_result",
          "data": {
            "text/plain": [
              "train_id                  0\n",
              "name                      0\n",
              "item_condition_id         0\n",
              "category_name          6327\n",
              "brand_name           632682\n",
              "price                     0\n",
              "shipping                  0\n",
              "item_description          4\n",
              "dtype: int64"
            ]
          },
          "metadata": {
            "tags": []
          },
          "execution_count": 8
        }
      ]
    },
    {
      "cell_type": "code",
      "metadata": {
        "id": "PCjyDXyBe48o",
        "colab_type": "code",
        "outputId": "49979231-d21f-46c3-de4f-9f381329c91d",
        "colab": {
          "base_uri": "https://localhost:8080/",
          "height": 102
        }
      },
      "source": [
        "# creating a function that check for missing values\n",
        "\n",
        "def checking_missing_values(df):\n",
        "    '''\n",
        "    Takes df\n",
        "    Checks nulls\n",
        "    '''\n",
        "    if df.isnull().sum().sum() > 0:\n",
        "        mask_total = df.isnull().sum().sort_values(ascending=False) \n",
        "        total = mask_total[mask_total > 0]\n",
        "\n",
        "        mask_percent = df.isnull().mean().sort_values(ascending=False)*100 \n",
        "        percent = mask_percent[mask_percent > 0] \n",
        "\n",
        "        missing_data = pd.concat([total, percent], axis=1, keys=['Total', 'Percent'])\n",
        "    \n",
        "        print(f'Total and Percentage of NaN:\\n {missing_data}')\n",
        "    else: \n",
        "        print('No NaN found.')\n",
        "checking_missing_values(retail) "
      ],
      "execution_count": 10,
      "outputs": [
        {
          "output_type": "stream",
          "text": [
            "Total and Percentage of NaN:\n",
            "                    Total    Percent\n",
            "brand_name        632682  42.675687\n",
            "category_name       6327   0.426769\n",
            "item_description       4   0.000270\n"
          ],
          "name": "stdout"
        }
      ]
    },
    {
      "cell_type": "code",
      "metadata": {
        "id": "0NrsxGNKjYdJ",
        "colab_type": "code",
        "outputId": "2b254759-bd36-4f36-f557-0f44fe445130",
        "colab": {
          "base_uri": "https://localhost:8080/",
          "height": 170
        }
      },
      "source": [
        "#  price\n",
        "retail.price.describe()"
      ],
      "execution_count": 11,
      "outputs": [
        {
          "output_type": "execute_result",
          "data": {
            "text/plain": [
              "count    1.482535e+06\n",
              "mean     2.673752e+01\n",
              "std      3.858607e+01\n",
              "min      0.000000e+00\n",
              "25%      1.000000e+01\n",
              "50%      1.700000e+01\n",
              "75%      2.900000e+01\n",
              "max      2.009000e+03\n",
              "Name: price, dtype: float64"
            ]
          },
          "metadata": {
            "tags": []
          },
          "execution_count": 11
        }
      ]
    },
    {
      "cell_type": "code",
      "metadata": {
        "id": "clVvmSYZkeEt",
        "colab_type": "code",
        "outputId": "6c439b1c-9ae4-4107-855d-b495b151ba03",
        "colab": {
          "base_uri": "https://localhost:8080/",
          "height": 34
        }
      },
      "source": [
        "#  Since we have test dataset  i will split my split dataset to train and test\n",
        "# The test dataset will be used as validation set before running the test in the model\n",
        "retail_st = np.random.rand(len(retail)) <0.8\n",
        "\n",
        "train_r =retail[retail_st]\n",
        "test_r = retail[retail_st]\n",
        "train_r.shape, test_r.shape"
      ],
      "execution_count": 12,
      "outputs": [
        {
          "output_type": "execute_result",
          "data": {
            "text/plain": [
              "((1185381, 8), (1185381, 8))"
            ]
          },
          "metadata": {
            "tags": []
          },
          "execution_count": 12
        }
      ]
    },
    {
      "cell_type": "code",
      "metadata": {
        "id": "p_RtFr_Tes37",
        "colab_type": "code",
        "colab": {}
      },
      "source": [
        "def histograms_numeric_columns(df,numerical_columns):\n",
        "    '''\n",
        "    Takes df,numerical_columns as list\n",
        "    Return a group of histograms\n",
        "    '''\n",
        "    f= pd.melt(df,value_vars=numerical_columns)\n",
        "    g= sns.FacetGrid(f,col='variable',col_wrap=4,sharex=False,sharey=False)\n",
        "    g=g.map(sns.distplot,'value')\n",
        "    return g"
      ],
      "execution_count": 0,
      "outputs": []
    },
    {
      "cell_type": "code",
      "metadata": {
        "id": "6RqiUchCesvr",
        "colab_type": "code",
        "outputId": "dbf76aa9-c2a5-4fe2-e64d-555947a77ac2",
        "colab": {
          "base_uri": "https://localhost:8080/",
          "height": 227
        }
      },
      "source": [
        "figure=(10,10)\n",
        "histograms_numeric_columns(train_r,'price');\n",
        "plt.title('price')\n",
        "plt.show()"
      ],
      "execution_count": 17,
      "outputs": [
        {
          "output_type": "display_data",
          "data": {
            "image/png": "[encoded data removed]",
            "text/plain": [
              "<Figure size 864x216 with 1 Axes>"
            ]
          },
          "metadata": {
            "tags": []
          }
        }
      ]
    },
    {
      "cell_type": "code",
      "metadata": {
        "id": "_kirAyqgmMvQ",
        "colab_type": "code",
        "outputId": "9353461f-59a7-48a3-eafb-b7be9af24682",
        "colab": {
          "base_uri": "https://localhost:8080/",
          "height": 428
        }
      },
      "source": [
        "plt.subplot(1,2,1)\n",
        "(train_r['price']).plot.hist(bins= 60, figsize=(12,6),edgecolor = 'white',range=[0,250])\n",
        "plt.xlabel('price',fontsize= 12)\n",
        "plt.title('Price distribution',fontsize= 18)\n",
        "\n"
      ],
      "execution_count": 68,
      "outputs": [
        {
          "output_type": "execute_result",
          "data": {
            "text/plain": [
              "Text(0.5, 1.0, 'Price distribution')"
            ]
          },
          "metadata": {
            "tags": []
          },
          "execution_count": 68
        },
        {
          "output_type": "display_data",
          "data": {
            "image/png": "[encoded data removed]",
            "text/plain": [
              "<Figure size 864x432 with 1 Axes>"
            ]
          },
          "metadata": {
            "tags": []
          }
        }
      ]
    },
    {
      "cell_type": "markdown",
      "metadata": {
        "id": "X-d82AHK6qDe",
        "colab_type": "text"
      },
      "source": [
        "Most of the items cost between 10-25  and top frequency was above 200000\n",
        "\n",
        "The price was right skewed"
      ]
    },
    {
      "cell_type": "code",
      "metadata": {
        "id": "zAWfzgUJHkrX",
        "colab_type": "code",
        "outputId": "07c70193-b796-4146-e2f8-b1e9afe4f671",
        "colab": {
          "base_uri": "https://localhost:8080/",
          "height": 428
        }
      },
      "source": [
        "# to allow normal distribustion of price we shall use log tranformation\n",
        "plt.subplot(1,2,1)\n",
        "np.log(train_r['price']+1).plot.hist(bins=60,figsize=(12,6),edgecolor='white')\n",
        "plt.xlabel('log(price+1)', fontsize=12)\n",
        "plt.title('Price Distribution',fontsize=18)"
      ],
      "execution_count": 67,
      "outputs": [
        {
          "output_type": "execute_result",
          "data": {
            "text/plain": [
              "Text(0.5, 1.0, 'Price Distribution')"
            ]
          },
          "metadata": {
            "tags": []
          },
          "execution_count": 67
        },
        {
          "output_type": "display_data",
          "data": {
            "image/png": "[encoded data removed]",
            "text/plain": [
              "<Figure size 864x432 with 1 Axes>"
            ]
          },
          "metadata": {
            "tags": []
          }
        }
      ]
    },
    {
      "cell_type": "code",
      "metadata": {
        "id": "0ZR5U-diGz75",
        "colab_type": "code",
        "colab": {}
      },
      "source": [
        "def heatmap_numeric_w_dependent_variable(df, dependent_variable):\n",
        "    '''\n",
        "    Takes df, a dependant variable as str\n",
        "    Returns a heatmap of all independent variables' correlations with dependent variable \n",
        "    '''\n",
        "    plt.figure(figsize=(8, 10))\n",
        "    g = sns.heatmap(df.corr()[[dependent_variable]].sort_values(by=dependent_variable), \n",
        "                    annot=True, \n",
        "                    cmap='coolwarm', \n",
        "                    vmin=-1,\n",
        "                    vmax=1) \n",
        "    plt.title('Heatmap of numerical with dependent variables',fontsize= 15)\n",
        "    return g"
      ],
      "execution_count": 0,
      "outputs": []
    },
    {
      "cell_type": "code",
      "metadata": {
        "id": "t7Su4-dPh63h",
        "colab_type": "code",
        "outputId": "aac85f99-5618-4fa8-9372-c74a12b0df14",
        "colab": {
          "base_uri": "https://localhost:8080/",
          "height": 609
        }
      },
      "source": [
        "heatmap_numeric_w_dependent_variable(train_r,'price');"
      ],
      "execution_count": 21,
      "outputs": [
        {
          "output_type": "display_data",
          "data": {
            "image/png": "[encoded data removed]",
            "text/plain": [
              "<Figure size 576x720 with 2 Axes>"
            ]
          },
          "metadata": {
            "tags": []
          }
        }
      ]
    },
    {
      "cell_type": "markdown",
      "metadata": {
        "id": "brTw_y558D_w",
        "colab_type": "text"
      },
      "source": [
        "Correlation of price to ther factors in the dataset that determine the price\n",
        "\n",
        "shipping affect price most than any other variable"
      ]
    },
    {
      "cell_type": "code",
      "metadata": {
        "id": "7K53RGs0h-6L",
        "colab_type": "code",
        "outputId": "52da6bfc-5cc5-4161-c083-78bdd84cf81a",
        "colab": {
          "base_uri": "https://localhost:8080/",
          "height": 85
        }
      },
      "source": [
        "# percentage of shipping items that were bought and those that weren't bought\n",
        "print(train_r['shipping'].value_counts()/len(train_r))\n",
        "print('over 55% of the shipping fee were paid by buyer')"
      ],
      "execution_count": 22,
      "outputs": [
        {
          "output_type": "stream",
          "text": [
            "0    0.552481\n",
            "1    0.447519\n",
            "Name: shipping, dtype: float64\n",
            "over 55% of the shipping fee were paid by buyer\n"
          ],
          "name": "stdout"
        }
      ]
    },
    {
      "cell_type": "markdown",
      "metadata": {
        "id": "TGbe1sZMjaY8",
        "colab_type": "text"
      },
      "source": [
        "## relation of shipping  to price charges"
      ]
    },
    {
      "cell_type": "code",
      "metadata": {
        "id": "UC5TE9osiyxL",
        "colab_type": "code",
        "outputId": "e8902507-2c44-486f-dcbf-6e31b70a0cb0",
        "colab": {
          "base_uri": "https://localhost:8080/",
          "height": 524
        }
      },
      "source": [
        "shipping_fee_by_buyer = train_r.loc[retail['shipping']==0,'price']\n",
        "shipping_fee_by_seller = train_r.loc[retail['shipping']==1,'price']\n",
        "\n",
        "fig, ax =plt.subplots(figsize=(18,8))\n",
        "ax.hist(shipping_fee_by_seller,color = '#8CB4E1',alpha= 1.0,bins=50,range= [0,100],label='price when seller pays shipping')\n",
        "ax.hist(shipping_fee_by_seller,color='#007D00',alpha=0.7,bins=50,range =[0,100],label = 'Price when the buyer pays shipping')\n",
        "plt.xlabel('price',fontsize=12)\n",
        "plt.ylabel('frequency',fontsize=12)\n",
        "plt.title('Price Distribustion by shipping type',fontsize=20)\n",
        "plt.tick_params(labelsize=12)\n",
        "plt.legend()\n",
        "plt.show()"
      ],
      "execution_count": 23,
      "outputs": [
        {
          "output_type": "display_data",
          "data": {
            "image/png": "[encoded data removed]",
            "text/plain": [
              "<Figure size 1296x576 with 1 Axes>"
            ]
          },
          "metadata": {
            "tags": []
          }
        }
      ]
    },
    {
      "cell_type": "code",
      "metadata": {
        "id": "H-SirGcIjjyi",
        "colab_type": "code",
        "outputId": "ed0e0743-5bf8-4862-a581-b6f404f17977",
        "colab": {
          "base_uri": "https://localhost:8080/",
          "height": 521
        }
      },
      "source": [
        "# using log\n",
        "fig, ax = plt.subplots(figsize=(18,8))\n",
        "ax.hist(np.log(shipping_fee_by_seller+1), color='#8CB4E1', alpha=1.0, bins=50,\n",
        "       label='Price when Seller pays Shipping')\n",
        "ax.hist(np.log(shipping_fee_by_buyer+1), color='#007D00', alpha=0.7, bins=50,\n",
        "       label='Price when Buyer pays Shipping')\n",
        "plt.xlabel('log(price+1)', fontsize=12)\n",
        "plt.ylabel('frequency', fontsize=12)\n",
        "plt.title('Price Distribution by Shipping Type', fontsize=15)\n",
        "plt.tick_params(labelsize=12)\n",
        "plt.legend()\n",
        "plt.show()\n",
        "\n"
      ],
      "execution_count": 24,
      "outputs": [
        {
          "output_type": "display_data",
          "data": {
            "image/png": "[encoded data removed]",
            "text/plain": [
              "<Figure size 1296x576 with 1 Axes>"
            ]
          },
          "metadata": {
            "tags": []
          }
        }
      ]
    },
    {
      "cell_type": "markdown",
      "metadata": {
        "id": "298JqN84oPVp",
        "colab_type": "text"
      },
      "source": [
        " log makes the data to change it skewness "
      ]
    },
    {
      "cell_type": "code",
      "metadata": {
        "id": "4wCEumNUogk2",
        "colab_type": "code",
        "outputId": "46d3c991-4918-4786-c96a-c7874c8696dd",
        "colab": {
          "base_uri": "https://localhost:8080/",
          "height": 204
        }
      },
      "source": [
        "# Top 10 most common category names\n",
        "train_r['category_name'].value_counts()[:10]"
      ],
      "execution_count": 25,
      "outputs": [
        {
          "output_type": "execute_result",
          "data": {
            "text/plain": [
              "Women/Athletic Apparel/Pants, Tights, Leggings                 48237\n",
              "Women/Tops & Blouses/T-Shirts                                  37065\n",
              "Beauty/Makeup/Face                                             27395\n",
              "Beauty/Makeup/Lips                                             23870\n",
              "Electronics/Video Games & Consoles/Games                       21274\n",
              "Beauty/Makeup/Eyes                                             20278\n",
              "Electronics/Cell Phones & Accessories/Cases, Covers & Skins    19778\n",
              "Women/Underwear/Bras                                           16982\n",
              "Women/Tops & Blouses/Blouse                                    16197\n",
              "Women/Tops & Blouses/Tank, Cami                                16175\n",
              "Name: category_name, dtype: int64"
            ]
          },
          "metadata": {
            "tags": []
          },
          "execution_count": 25
        }
      ]
    },
    {
      "cell_type": "markdown",
      "metadata": {
        "id": "x8I0_EjFo01v",
        "colab_type": "text"
      },
      "source": [
        "## Item condition  and its Price"
      ]
    },
    {
      "cell_type": "code",
      "metadata": {
        "id": "o2c9wXD-or4L",
        "colab_type": "code",
        "outputId": "092a947b-aaaf-42a8-905c-f92aa522de8b",
        "colab": {
          "base_uri": "https://localhost:8080/",
          "height": 298
        }
      },
      "source": [
        "sns.boxplot(x = 'item_condition_id',y = np.log(train_r['price']+1),data=train_r,palette=sns.color_palette('RdBu',5))\n",
        "plt.title('heatmap showing price vs item_condition',fontsize=15)\n",
        "plt.show()\n",
        "\n"
      ],
      "execution_count": 26,
      "outputs": [
        {
          "output_type": "display_data",
          "data": {
            "image/png": "[encoded data removed]",
            "text/plain": [
              "<Figure size 432x288 with 1 Axes>"
            ]
          },
          "metadata": {
            "tags": []
          }
        }
      ]
    },
    {
      "cell_type": "markdown",
      "metadata": {
        "id": "m8xDRJMrp8dC",
        "colab_type": "text"
      },
      "source": [
        "most of the items were above the upper limit price and they are signs of outliers. we also prices that were zero\n",
        "\n",
        "The average price of items bought is 3"
      ]
    },
    {
      "cell_type": "code",
      "metadata": {
        "id": "jrYN5ePSo8dq",
        "colab_type": "code",
        "colab": {}
      },
      "source": [
        "NUM_BRANDS = 4000\n",
        "NUM_CATEGORIES = 1000\n",
        "NAME_MIN_DF = 10\n",
        "MAX_FEATURES_ITEM_DESCRIPTION = 50000"
      ],
      "execution_count": 0,
      "outputs": []
    },
    {
      "cell_type": "markdown",
      "metadata": {
        "id": "XJay07cWqIv-",
        "colab_type": "text"
      },
      "source": [
        "Dealing  with missing values using functions"
      ]
    },
    {
      "cell_type": "code",
      "metadata": {
        "id": "g8tQZsNrqEGe",
        "colab_type": "code",
        "colab": {}
      },
      "source": [
        "def handle_missing_inplace(dataset): \n",
        "    dataset['category_name'].fillna(value='missing', inplace=True) \n",
        "    dataset['brand_name'].fillna(value='missing', inplace=True) \n",
        "    dataset['item_description'].replace('No description yet,''missing', inplace=True) \n",
        "    dataset['item_description'].fillna(value='missing', inplace=True)\n",
        "def cutting(dataset):\n",
        "    pop_brand = dataset['brand_name'].value_counts().loc[lambda x: x.index != 'missing'].index[:NUM_BRANDS]\n",
        "    dataset.loc[~dataset['brand_name'].isin(pop_brand), 'brand_name'] = 'missing'\n",
        "    pop_category = dataset['category_name'].value_counts().loc[lambda x: x.index != 'missing'].index[:NUM_CATEGORIES]\n",
        "def to_categorical(dataset):\n",
        "    dataset['category_name'] = dataset['category_name'].astype('category')\n",
        "    dataset['brand_name'] = dataset['brand_name'].astype('category')\n",
        "    dataset['item_condition_id'] = dataset['item_condition_id'].astype('category')"
      ],
      "execution_count": 0,
      "outputs": []
    },
    {
      "cell_type": "code",
      "metadata": {
        "id": "G7dtt8UpkUH8",
        "colab_type": "code",
        "colab": {
          "base_uri": "https://localhost:8080/",
          "height": 170
        },
        "outputId": "282e440b-44ca-4da9-d63a-238afb58a281"
      },
      "source": [
        "retail.isnull().sum()"
      ],
      "execution_count": 30,
      "outputs": [
        {
          "output_type": "execute_result",
          "data": {
            "text/plain": [
              "train_id                  0\n",
              "name                      0\n",
              "item_condition_id         0\n",
              "category_name          6327\n",
              "brand_name           632682\n",
              "price                     0\n",
              "shipping                  0\n",
              "item_description          4\n",
              "dtype: int64"
            ]
          },
          "metadata": {
            "tags": []
          },
          "execution_count": 30
        }
      ]
    },
    {
      "cell_type": "code",
      "metadata": {
        "id": "B6sCYdn8qZzK",
        "colab_type": "code",
        "colab": {}
      },
      "source": [
        "# drop rows where the price is zero\n",
        "\n",
        "#retail = pd.read_csv('train.tsv',sep = '\\t')\n",
        "retail_nd = np.random.rand(len(retail))< 0.8\n",
        "train = retail[retail_nd]\n",
        "validation =retail[~retail_nd]\n",
        "validation_new = validation.drop('price',axis=1)\n",
        "y_validation = np.log1p(validation['price'])\n",
        "\n",
        "train =train[train.price !=0].reset_index(drop=True)"
      ],
      "execution_count": 0,
      "outputs": []
    },
    {
      "cell_type": "code",
      "metadata": {
        "id": "23ktAIfvrSeO",
        "colab_type": "code",
        "colab": {}
      },
      "source": [
        "# merging train and new validation\n",
        "\n",
        "nrow_train = train.shape[0]\n",
        "y = np.log1p(train[\"price\"])\n",
        "merge: pd.DataFrame =pd.concat([train,validation_new])"
      ],
      "execution_count": 0,
      "outputs": []
    },
    {
      "cell_type": "markdown",
      "metadata": {
        "id": "tuqbzuBSrlRz",
        "colab_type": "text"
      },
      "source": [
        "### Prepare training"
      ]
    },
    {
      "cell_type": "code",
      "metadata": {
        "id": "9ka_Iv1UrZNu",
        "colab_type": "code",
        "colab": {}
      },
      "source": [
        "handle_missing_inplace(merge)\n",
        "cutting(merge)\n",
        "to_categorical(merge)"
      ],
      "execution_count": 0,
      "outputs": []
    },
    {
      "cell_type": "code",
      "metadata": {
        "id": "hXU-SEx0rvO5",
        "colab_type": "code",
        "colab": {}
      },
      "source": [
        "# count vectorize name and categoty name column\n",
        "\n",
        "cv = CountVectorizer(min_df=NAME_MIN_DF)\n",
        "X_name = cv.fit_transform(merge['name'])\n",
        "cv = CountVectorizer()\n",
        "X_category = cv.fit_transform(merge['category_name'])"
      ],
      "execution_count": 0,
      "outputs": []
    },
    {
      "cell_type": "code",
      "metadata": {
        "id": "OPJJiHXgr2em",
        "colab_type": "code",
        "colab": {}
      },
      "source": [
        "tv = TfidfVectorizer(max_features=MAX_FEATURES_ITEM_DESCRIPTION, ngram_range=(1, 3), stop_words='english')\n",
        "X_description = tv.fit_transform(merge['item_description'])"
      ],
      "execution_count": 0,
      "outputs": []
    },
    {
      "cell_type": "markdown",
      "metadata": {
        "id": "UX6Yd4cYrp33",
        "colab_type": "text"
      },
      "source": [
        "label inarize the brand name column"
      ]
    },
    {
      "cell_type": "code",
      "metadata": {
        "id": "mwdFoO1br_aV",
        "colab_type": "code",
        "colab": {}
      },
      "source": [
        "lb = LabelBinarizer(sparse_output=True)\n",
        "X_brand = lb.fit_transform(merge['brand_name'])"
      ],
      "execution_count": 0,
      "outputs": []
    },
    {
      "cell_type": "code",
      "metadata": {
        "id": "e993QcgUsKcF",
        "colab_type": "code",
        "outputId": "dcfc0de0-b42d-4e10-d3c2-d6f7240c87b6",
        "colab": {
          "base_uri": "https://localhost:8080/",
          "height": 34
        }
      },
      "source": [
        "merge.shipping.unique()"
      ],
      "execution_count": 39,
      "outputs": [
        {
          "output_type": "execute_result",
          "data": {
            "text/plain": [
              "array([1, 0])"
            ]
          },
          "metadata": {
            "tags": []
          },
          "execution_count": 39
        }
      ]
    },
    {
      "cell_type": "markdown",
      "metadata": {
        "id": "vYBm4wbPsfmD",
        "colab_type": "text"
      },
      "source": [
        "creating dummies variable for item_condition_id and shipping columns"
      ]
    },
    {
      "cell_type": "code",
      "metadata": {
        "id": "NEl32U8asLgS",
        "colab_type": "code",
        "colab": {}
      },
      "source": [
        "X_dummies = csr_matrix(pd.get_dummies(merge[['item_condition_id']], sparse=True).values)\n"
      ],
      "execution_count": 0,
      "outputs": []
    },
    {
      "cell_type": "code",
      "metadata": {
        "id": "GbUGgWeatIZo",
        "colab_type": "code",
        "colab": {}
      },
      "source": [
        "sparse_merge = hstack((X_dummies, X_description, X_brand, X_category, X_name)).tocsr()\n"
      ],
      "execution_count": 0,
      "outputs": []
    },
    {
      "cell_type": "code",
      "metadata": {
        "id": "pz_gHB2wtMpO",
        "colab_type": "code",
        "colab": {}
      },
      "source": [
        "mask = np.array(np.clip(sparse_merge.getnnz(axis=0) - 1, 0, 1), dtype=bool)\n",
        "sparse_merge = sparse_merge[:, mask]"
      ],
      "execution_count": 0,
      "outputs": []
    },
    {
      "cell_type": "code",
      "metadata": {
        "id": "aMwFBCbntSX0",
        "colab_type": "code",
        "colab": {}
      },
      "source": [
        "# separating train and test data from the spare merge\n",
        "X = sparse_merge[:nrow_train]\n",
        "X_test = sparse_merge[nrow_train:]    "
      ],
      "execution_count": 0,
      "outputs": []
    },
    {
      "cell_type": "code",
      "metadata": {
        "id": "NxUxWb7TtYDF",
        "colab_type": "code",
        "colab": {}
      },
      "source": [
        "train_X = lgb.Dataset(X, label=y)"
      ],
      "execution_count": 0,
      "outputs": []
    },
    {
      "cell_type": "code",
      "metadata": {
        "id": "HNqf4nwitdkq",
        "colab_type": "code",
        "colab": {}
      },
      "source": [
        "# parameter \n",
        "# since our target is contineous  we shall use regression instead of classifer  and the metric of success is RMSE\n",
        "params = {\n",
        "        'learning_rate': 0.75,\n",
        "        'application': 'regression',\n",
        "        'max_depth': 3,\n",
        "        'num_leaves': 100,\n",
        "        'verbosity': -1,\n",
        "        'metric': 'RMSE',\n",
        "    }"
      ],
      "execution_count": 0,
      "outputs": []
    },
    {
      "cell_type": "markdown",
      "metadata": {
        "id": "v525EwJ9zJQt",
        "colab_type": "text"
      },
      "source": [
        "## traning model"
      ]
    },
    {
      "cell_type": "code",
      "metadata": {
        "id": "TxRzBGVHuEqJ",
        "colab_type": "code",
        "colab": {}
      },
      "source": [
        "gbm = lgb.train(params, train_set=train_X, num_boost_round=3200, verbose_eval=100)"
      ],
      "execution_count": 0,
      "outputs": []
    },
    {
      "cell_type": "markdown",
      "metadata": {
        "id": "cayaO4A9zCMB",
        "colab_type": "text"
      },
      "source": [
        "## making prediction"
      ]
    },
    {
      "cell_type": "code",
      "metadata": {
        "id": "rrQyjJKVu3KH",
        "colab_type": "code",
        "colab": {}
      },
      "source": [
        "y_pred = gbm.predict(X_test, num_iteration=gbm.best_iteration)\n"
      ],
      "execution_count": 0,
      "outputs": []
    },
    {
      "cell_type": "code",
      "metadata": {
        "id": "zbiTta_Izq92",
        "colab_type": "code",
        "colab": {
          "base_uri": "https://localhost:8080/",
          "height": 34
        },
        "outputId": "75d0c7ea-64eb-4913-c1ac-f0f5e14b7a43"
      },
      "source": [
        "y_pred.mean()"
      ],
      "execution_count": 62,
      "outputs": [
        {
          "output_type": "execute_result",
          "data": {
            "text/plain": [
              "2.9843481698122107"
            ]
          },
          "metadata": {
            "tags": []
          },
          "execution_count": 62
        }
      ]
    },
    {
      "cell_type": "code",
      "metadata": {
        "id": "mI7jLwNL2pGA",
        "colab_type": "code",
        "colab": {
          "base_uri": "https://localhost:8080/",
          "height": 297
        },
        "outputId": "4d5ec8b3-775b-4be0-aa9e-f9906c54eab9"
      },
      "source": [
        "# prediction based on the model trained\n",
        "comparison_frame = pd.DataFrame({'Actual': y_validation, 'Predicted': y_pred})\n",
        "\n",
        "comparison_frame.describe()\n"
      ],
      "execution_count": 66,
      "outputs": [
        {
          "output_type": "execute_result",
          "data": {
            "text/html": [
              "<div>\n",
              "<style scoped>\n",
              "    .dataframe tbody tr th:only-of-type {\n",
              "        vertical-align: middle;\n",
              "    }\n",
              "\n",
              "    .dataframe tbody tr th {\n",
              "        vertical-align: top;\n",
              "    }\n",
              "\n",
              "    .dataframe thead th {\n",
              "        text-align: right;\n",
              "    }\n",
              "</style>\n",
              "<table border=\"1\" class=\"dataframe\">\n",
              "  <thead>\n",
              "    <tr style=\"text-align: right;\">\n",
              "      <th></th>\n",
              "      <th>Actual</th>\n",
              "      <th>Predicted</th>\n",
              "    </tr>\n",
              "  </thead>\n",
              "  <tbody>\n",
              "    <tr>\n",
              "      <th>count</th>\n",
              "      <td>295501.000000</td>\n",
              "      <td>295501.000000</td>\n",
              "    </tr>\n",
              "    <tr>\n",
              "      <th>mean</th>\n",
              "      <td>2.979821</td>\n",
              "      <td>2.984348</td>\n",
              "    </tr>\n",
              "    <tr>\n",
              "      <th>std</th>\n",
              "      <td>0.750544</td>\n",
              "      <td>0.604998</td>\n",
              "    </tr>\n",
              "    <tr>\n",
              "      <th>min</th>\n",
              "      <td>0.000000</td>\n",
              "      <td>0.689096</td>\n",
              "    </tr>\n",
              "    <tr>\n",
              "      <th>25%</th>\n",
              "      <td>2.397895</td>\n",
              "      <td>2.582282</td>\n",
              "    </tr>\n",
              "    <tr>\n",
              "      <th>50%</th>\n",
              "      <td>2.890372</td>\n",
              "      <td>2.895786</td>\n",
              "    </tr>\n",
              "    <tr>\n",
              "      <th>75%</th>\n",
              "      <td>3.401197</td>\n",
              "      <td>3.305663</td>\n",
              "    </tr>\n",
              "    <tr>\n",
              "      <th>max</th>\n",
              "      <td>7.601402</td>\n",
              "      <td>8.240219</td>\n",
              "    </tr>\n",
              "  </tbody>\n",
              "</table>\n",
              "</div>"
            ],
            "text/plain": [
              "              Actual      Predicted\n",
              "count  295501.000000  295501.000000\n",
              "mean        2.979821       2.984348\n",
              "std         0.750544       0.604998\n",
              "min         0.000000       0.689096\n",
              "25%         2.397895       2.582282\n",
              "50%         2.890372       2.895786\n",
              "75%         3.401197       3.305663\n",
              "max         7.601402       8.240219"
            ]
          },
          "metadata": {
            "tags": []
          },
          "execution_count": 66
        }
      ]
    },
    {
      "cell_type": "code",
      "metadata": {
        "id": "8RQhhQmrx8S-",
        "colab_type": "code",
        "outputId": "3167432e-7526-46fd-b6bd-8d422bb4dddb",
        "colab": {
          "base_uri": "https://localhost:8080/",
          "height": 34
        }
      },
      "source": [
        "# from sklearn.metrics import mean_squared_error\n",
        "# print('The rmse of prediction is:', mean_squared_error(y_validation, y_pred) ** 0.5)"
      ],
      "execution_count": 61,
      "outputs": [
        {
          "output_type": "stream",
          "text": [
            "The rmse of prediction is: 0.4702454201907496\n"
          ],
          "name": "stdout"
        }
      ]
    },
    {
      "cell_type": "code",
      "metadata": {
        "id": "eIYw0HpRyGF5",
        "colab_type": "code",
        "colab": {
          "base_uri": "https://localhost:8080/",
          "height": 68
        },
        "outputId": "6e448c9e-b1a1-4c97-de66-01aee4b9865b"
      },
      "source": [
        "from sklearn import metrics\n",
        "print('Mean Absolute Error:', metrics.mean_absolute_error(y_validation, y_pred))  \n",
        "print('Mean Squared Error:', metrics.mean_squared_error(y_validation, y_pred))  \n",
        "print('Root Mean Squared Error:', np.sqrt(metrics.mean_squared_error(y_validation, y_pred)))\n"
      ],
      "execution_count": 81,
      "outputs": [
        {
          "output_type": "stream",
          "text": [
            "Mean Absolute Error: 0.3507851432873171\n",
            "Mean Squared Error: 0.22113075521037465\n",
            "Root Mean Squared Error: 0.4702454201907496\n"
          ],
          "name": "stdout"
        }
      ]
    },
    {
      "cell_type": "code",
      "metadata": {
        "id": "Fice1eUw2dzd",
        "colab_type": "code",
        "colab": {}
      },
      "source": [
        ""
      ],
      "execution_count": 0,
      "outputs": []
    }
  ]
}